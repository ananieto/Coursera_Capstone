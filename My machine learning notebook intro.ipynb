{
 "cells": [
  {
   "cell_type": "markdown",
   "metadata": {
    "collapsed": true
   },
   "source": [
    "# Project: The Battle of Neighborhoods\n",
    "\n",
    "## Introduction\n",
    "Salamanca is a Spanish university city. Due to the large number of students, most of the services available in the city are oriented to meet the needs of university students.\n",
    "Above all, there are many food establishments.\n",
    "However, food from establishments close to university areas does not offer good quality food and managers are not aware of creating businesses that respect sustainability and provide ecological products.\n",
    "That's why Pepe, a citizen of Salamanca wants to embark on a sustainable business that sells organic products and food made from them.\n",
    "\n",
    "\n",
    "## Objetive\n",
    "\n",
    "The aim of this work is to provide Pepe with a tool that, using machine learning techniques, provides Pepe with information about the services available in the city so that he can choose the area that best suits him to start his business.\n",
    "\n",
    "\n",
    "## Data\n",
    "\n",
    "In order to solve the problem we use the data provided by the web foursquare for the coordinates of the city of Salamanca.\n",
    "\n",
    "In the first place the coordinates of the city centre will be obtained.\n",
    "\n",
    "Then, a query in the Foursquare website is done to obtain the top sites in Salamanca with their geographical coordinates."
   ]
  },
  {
   "cell_type": "code",
   "execution_count": null,
   "metadata": {},
   "outputs": [],
   "source": []
  }
 ],
 "metadata": {
  "kernelspec": {
   "display_name": "Python 3.6",
   "language": "python",
   "name": "python3"
  },
  "language_info": {
   "codemirror_mode": {
    "name": "ipython",
    "version": 3
   },
   "file_extension": ".py",
   "mimetype": "text/x-python",
   "name": "python",
   "nbconvert_exporter": "python",
   "pygments_lexer": "ipython3",
   "version": "3.6.8"
  }
 },
 "nbformat": 4,
 "nbformat_minor": 1
}
